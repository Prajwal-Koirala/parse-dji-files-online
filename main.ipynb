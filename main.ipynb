{
 "cells": [
  {
   "cell_type": "code",
   "execution_count": 9,
   "metadata": {},
   "outputs": [],
   "source": [
    "# Import the required packages.\n",
    "import os\n",
    "import platform\n",
    "import psutil\n",
    "import socket"
   ]
  },
  {
   "cell_type": "code",
   "execution_count": 10,
   "metadata": {},
   "outputs": [
    {
     "name": "stdout",
     "output_type": "stream",
     "text": [
      "OS Name: Darwin\n",
      "OS Version: 23.2.0\n",
      "Machine Architecture: x86_64\n",
      "Processor Name: i386\n",
      "Network Hostname: Prajwals-MacBook-Pro.local\n",
      "Python Version: 3.9.6\n"
     ]
    }
   ],
   "source": [
    "# Get the OS name and version\n",
    "os_name = platform.system()\n",
    "os_version = platform.release()\n",
    "\n",
    "# Get the machine architecture\n",
    "machine_architecture = platform.machine()\n",
    "\n",
    "# Get the processor name\n",
    "processor_name = platform.processor()\n",
    "\n",
    "# Get the network hostname\n",
    "network_hostname = platform.node()\n",
    "\n",
    "# Get the Python version\n",
    "python_version = platform.python_version()\n",
    "\n",
    "# Print the OS information\n",
    "print(f\"OS Name: {os_name}\")\n",
    "print(f\"OS Version: {os_version}\")\n",
    "print(f\"Machine Architecture: {machine_architecture}\")\n",
    "print(f\"Processor Name: {processor_name}\")\n",
    "print(f\"Network Hostname: {network_hostname}\")\n",
    "print(f\"Python Version: {python_version}\")"
   ]
  },
  {
   "cell_type": "code",
   "execution_count": 11,
   "metadata": {},
   "outputs": [
    {
     "name": "stdout",
     "output_type": "stream",
     "text": [
      "CPU Information:\n",
      "Physical Cores: 4\n",
      "Total Cores: 8\n",
      "Max Frequency: 2300\n",
      "Min Frequency: 2300\n",
      "Current Frequency: 2300\n",
      "CPU Usage: 29.0\n",
      "\n",
      "Memory Information:\n",
      "Total Memory: 34359738368\n",
      "Available Memory: 20547436544\n",
      "Used Memory: 13810106368\n",
      "Memory Usage: 40.2\n",
      "\n",
      "Disk Information:\n",
      "Total Disk Space: 499963174912\n",
      "Used Disk Space: 9961369600\n",
      "Free Disk Space: 416158302208\n",
      "Disk Usage: 2.3\n",
      "\n",
      "Network Information:\n",
      "Hostname: Prajwals-MacBook-Pro.local\n",
      "IP Address: 127.0.0.1\n"
     ]
    }
   ],
   "source": [
    "# Get the CPU information\n",
    "cpu_info = {\n",
    "    'Physical Cores': psutil.cpu_count(logical=False),\n",
    "    'Total Cores': psutil.cpu_count(logical=True),\n",
    "    'Max Frequency': psutil.cpu_freq().max,\n",
    "    'Min Frequency': psutil.cpu_freq().min,\n",
    "    'Current Frequency': psutil.cpu_freq().current,\n",
    "    'CPU Usage': psutil.cpu_percent(interval=1)\n",
    "}\n",
    "\n",
    "# Get the memory information\n",
    "memory_info = {\n",
    "    'Total Memory': psutil.virtual_memory().total,\n",
    "    'Available Memory': psutil.virtual_memory().available,\n",
    "    'Used Memory': psutil.virtual_memory().used,\n",
    "    'Memory Usage': psutil.virtual_memory().percent\n",
    "}\n",
    "\n",
    "# Get the disk information\n",
    "disk_info = {\n",
    "    'Total Disk Space': psutil.disk_usage('/').total,\n",
    "    'Used Disk Space': psutil.disk_usage('/').used,\n",
    "    'Free Disk Space': psutil.disk_usage('/').free,\n",
    "    'Disk Usage': psutil.disk_usage('/').percent\n",
    "}\n",
    "\n",
    "# Get the network information\n",
    "network_info = {\n",
    "    'Hostname': socket.gethostname(),\n",
    "    'IP Address': socket.gethostbyname(socket.gethostname())\n",
    "}\n",
    "\n",
    "# Print the system information\n",
    "print(\"CPU Information:\")\n",
    "for key, value in cpu_info.items():\n",
    "    print(f\"{key}: {value}\")\n",
    "print(\"\\nMemory Information:\")\n",
    "for key, value in memory_info.items():\n",
    "    print(f\"{key}: {value}\")\n",
    "print(\"\\nDisk Information:\")\n",
    "for key, value in disk_info.items():\n",
    "    print(f\"{key}: {value}\")\n",
    "print(\"\\nNetwork Information:\")\n",
    "for key, value in network_info.items():\n",
    "    print(f\"{key}: {value}\")\n"
   ]
  }
 ],
 "metadata": {
  "kernelspec": {
   "display_name": "Python 3",
   "language": "python",
   "name": "python3"
  },
  "language_info": {
   "codemirror_mode": {
    "name": "ipython",
    "version": 3
   },
   "file_extension": ".py",
   "mimetype": "text/x-python",
   "name": "python",
   "nbconvert_exporter": "python",
   "pygments_lexer": "ipython3",
   "version": "3.9.6"
  }
 },
 "nbformat": 4,
 "nbformat_minor": 5
}
